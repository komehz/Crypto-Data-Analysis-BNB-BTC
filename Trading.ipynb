{
 "cells": [
  {
   "cell_type": "code",
   "execution_count": 1,
   "id": "c160fd70",
   "metadata": {},
   "outputs": [],
   "source": [
    "import pandas as pd\n",
    "import numpy as np\n",
    "import matplotlib.pyplot as plt\n",
    "import seaborn as sns\n",
    "from collections import Counter"
   ]
  },
  {
   "cell_type": "markdown",
   "id": "bd450e6b",
   "metadata": {},
   "source": [
    "# Dataset"
   ]
  },
  {
   "cell_type": "code",
   "execution_count": 2,
   "id": "54c1b581",
   "metadata": {},
   "outputs": [],
   "source": [
    "# Read saved csv files\n",
    "Data = pd.read_csv('Data.csv', index_col=0)\n",
    "Data = Data[1:].reset_index(drop=True)"
   ]
  },
  {
   "cell_type": "code",
   "execution_count": 3,
   "id": "99b1c1b7",
   "metadata": {},
   "outputs": [],
   "source": [
    "Data['Summary'] = Data['Summary'].shift()\n",
    "Data['Moving Average'] = Data['Moving Average'].shift()\n",
    "Data['Oscillator'] = Data['Oscillator'].shift()"
   ]
  },
  {
   "cell_type": "code",
   "execution_count": 4,
   "id": "aac3dd0e",
   "metadata": {},
   "outputs": [
    {
     "name": "stderr",
     "output_type": "stream",
     "text": [
      "C:\\Users\\esugom\\AppData\\Local\\Temp\\ipykernel_3952\\971245776.py:3: SettingWithCopyWarning: \n",
      "A value is trying to be set on a copy of a slice from a DataFrame\n",
      "\n",
      "See the caveats in the documentation: https://pandas.pydata.org/pandas-docs/stable/user_guide/indexing.html#returning-a-view-versus-a-copy\n",
      "  Data['Win/Lose'].iloc[i] = pd.NA\n"
     ]
    }
   ],
   "source": [
    "for i in range(len(Data)):\n",
    "    if (Data['Change'].iloc[i] == 0):\n",
    "        Data['Win/Lose'].iloc[i] = pd.NA"
   ]
  },
  {
   "cell_type": "code",
   "execution_count": 5,
   "id": "91aa8109",
   "metadata": {},
   "outputs": [],
   "source": [
    "Data['start time'] = pd.to_datetime(Data['start time'],unit='s')\n",
    "Data['lock time'] = pd.to_datetime(Data['lock time'],unit='s')\n",
    "Data['close time'] = pd.to_datetime(Data['close time'],unit='s')"
   ]
  },
  {
   "cell_type": "code",
   "execution_count": 6,
   "id": "cd3ce660",
   "metadata": {},
   "outputs": [],
   "source": [
    "Data[\"Up multi\"] = Data[\"Total BNB\"]/Data[\"Up BNB\"]\n",
    "Data[\"Down multi\"] = Data[\"Total BNB\"]/Data[\"Down BNB\"]"
   ]
  },
  {
   "cell_type": "code",
   "execution_count": 7,
   "id": "3edf58da",
   "metadata": {},
   "outputs": [
    {
     "data": {
      "text/html": [
       "<div>\n",
       "<style scoped>\n",
       "    .dataframe tbody tr th:only-of-type {\n",
       "        vertical-align: middle;\n",
       "    }\n",
       "\n",
       "    .dataframe tbody tr th {\n",
       "        vertical-align: top;\n",
       "    }\n",
       "\n",
       "    .dataframe thead th {\n",
       "        text-align: right;\n",
       "    }\n",
       "</style>\n",
       "<table border=\"1\" class=\"dataframe\">\n",
       "  <thead>\n",
       "    <tr style=\"text-align: right;\">\n",
       "      <th></th>\n",
       "      <th>start time</th>\n",
       "      <th>lock time</th>\n",
       "      <th>close time</th>\n",
       "      <th>epoch</th>\n",
       "      <th>Locked price</th>\n",
       "      <th>Close price</th>\n",
       "      <th>Change</th>\n",
       "      <th>Total BNB</th>\n",
       "      <th>Up BNB</th>\n",
       "      <th>Down BNB</th>\n",
       "      <th>Win/Lose</th>\n",
       "      <th>Summary</th>\n",
       "      <th>Moving Average</th>\n",
       "      <th>Oscillator</th>\n",
       "      <th>Up multi</th>\n",
       "      <th>Down multi</th>\n",
       "    </tr>\n",
       "  </thead>\n",
       "  <tbody>\n",
       "    <tr>\n",
       "      <th>0</th>\n",
       "      <td>2022-05-26 21:46:10</td>\n",
       "      <td>2022-05-26 21:51:10</td>\n",
       "      <td>2022-05-26 21:56:10</td>\n",
       "      <td>3372</td>\n",
       "      <td>310.9</td>\n",
       "      <td>311.2</td>\n",
       "      <td>0.3</td>\n",
       "      <td>15.7211</td>\n",
       "      <td>7.8211</td>\n",
       "      <td>8.0654</td>\n",
       "      <td>1</td>\n",
       "      <td>NaN</td>\n",
       "      <td>NaN</td>\n",
       "      <td>NaN</td>\n",
       "      <td>2.010088</td>\n",
       "      <td>1.949203</td>\n",
       "    </tr>\n",
       "    <tr>\n",
       "      <th>1</th>\n",
       "      <td>2022-05-26 21:51:16</td>\n",
       "      <td>2022-05-26 21:56:16</td>\n",
       "      <td>2022-05-26 22:01:16</td>\n",
       "      <td>3373</td>\n",
       "      <td>311.2</td>\n",
       "      <td>311.1</td>\n",
       "      <td>-0.1</td>\n",
       "      <td>15.2673</td>\n",
       "      <td>7.6794</td>\n",
       "      <td>7.7486</td>\n",
       "      <td>0</td>\n",
       "      <td>SELL</td>\n",
       "      <td>STRONG SELL</td>\n",
       "      <td>NEUTRAL</td>\n",
       "      <td>1.988085</td>\n",
       "      <td>1.970330</td>\n",
       "    </tr>\n",
       "    <tr>\n",
       "      <th>2</th>\n",
       "      <td>2022-05-26 21:56:22</td>\n",
       "      <td>2022-05-26 22:01:22</td>\n",
       "      <td>2022-05-26 22:06:22</td>\n",
       "      <td>3374</td>\n",
       "      <td>311.1</td>\n",
       "      <td>313.1</td>\n",
       "      <td>2.0</td>\n",
       "      <td>15.0658</td>\n",
       "      <td>7.6866</td>\n",
       "      <td>7.5378</td>\n",
       "      <td>1</td>\n",
       "      <td>SELL</td>\n",
       "      <td>SELL</td>\n",
       "      <td>NEUTRAL</td>\n",
       "      <td>1.960008</td>\n",
       "      <td>1.998700</td>\n",
       "    </tr>\n",
       "    <tr>\n",
       "      <th>3</th>\n",
       "      <td>2022-05-26 22:01:28</td>\n",
       "      <td>2022-05-26 22:06:28</td>\n",
       "      <td>2022-05-26 22:11:28</td>\n",
       "      <td>3375</td>\n",
       "      <td>313.1</td>\n",
       "      <td>313.3</td>\n",
       "      <td>0.2</td>\n",
       "      <td>15.4450</td>\n",
       "      <td>7.8458</td>\n",
       "      <td>7.7618</td>\n",
       "      <td>1</td>\n",
       "      <td>SELL</td>\n",
       "      <td>SELL</td>\n",
       "      <td>NEUTRAL</td>\n",
       "      <td>1.968569</td>\n",
       "      <td>1.989873</td>\n",
       "    </tr>\n",
       "    <tr>\n",
       "      <th>4</th>\n",
       "      <td>2022-05-26 22:06:34</td>\n",
       "      <td>2022-05-26 22:11:34</td>\n",
       "      <td>2022-05-26 22:16:34</td>\n",
       "      <td>3376</td>\n",
       "      <td>313.3</td>\n",
       "      <td>313.1</td>\n",
       "      <td>-0.2</td>\n",
       "      <td>15.3839</td>\n",
       "      <td>7.8221</td>\n",
       "      <td>7.7238</td>\n",
       "      <td>0</td>\n",
       "      <td>BUY</td>\n",
       "      <td>STRONG BUY</td>\n",
       "      <td>NEUTRAL</td>\n",
       "      <td>1.966722</td>\n",
       "      <td>1.991753</td>\n",
       "    </tr>\n",
       "    <tr>\n",
       "      <th>...</th>\n",
       "      <td>...</td>\n",
       "      <td>...</td>\n",
       "      <td>...</td>\n",
       "      <td>...</td>\n",
       "      <td>...</td>\n",
       "      <td>...</td>\n",
       "      <td>...</td>\n",
       "      <td>...</td>\n",
       "      <td>...</td>\n",
       "      <td>...</td>\n",
       "      <td>...</td>\n",
       "      <td>...</td>\n",
       "      <td>...</td>\n",
       "      <td>...</td>\n",
       "      <td>...</td>\n",
       "      <td>...</td>\n",
       "    </tr>\n",
       "    <tr>\n",
       "      <th>480</th>\n",
       "      <td>2022-05-28 14:34:58</td>\n",
       "      <td>2022-05-28 14:39:58</td>\n",
       "      <td>2022-05-28 14:44:58</td>\n",
       "      <td>3852</td>\n",
       "      <td>305.4</td>\n",
       "      <td>305.6</td>\n",
       "      <td>0.2</td>\n",
       "      <td>11.1917</td>\n",
       "      <td>5.6547</td>\n",
       "      <td>5.6547</td>\n",
       "      <td>1</td>\n",
       "      <td>STRONG BUY</td>\n",
       "      <td>STRONG BUY</td>\n",
       "      <td>NEUTRAL</td>\n",
       "      <td>1.979185</td>\n",
       "      <td>1.979185</td>\n",
       "    </tr>\n",
       "    <tr>\n",
       "      <th>481</th>\n",
       "      <td>2022-05-28 14:40:04</td>\n",
       "      <td>2022-05-28 14:45:04</td>\n",
       "      <td>2022-05-28 14:50:04</td>\n",
       "      <td>3853</td>\n",
       "      <td>305.6</td>\n",
       "      <td>305.1</td>\n",
       "      <td>-0.5</td>\n",
       "      <td>11.5807</td>\n",
       "      <td>5.8513</td>\n",
       "      <td>5.8513</td>\n",
       "      <td>0</td>\n",
       "      <td>BUY</td>\n",
       "      <td>STRONG BUY</td>\n",
       "      <td>SELL</td>\n",
       "      <td>1.979167</td>\n",
       "      <td>1.979167</td>\n",
       "    </tr>\n",
       "    <tr>\n",
       "      <th>482</th>\n",
       "      <td>2022-05-28 14:45:10</td>\n",
       "      <td>2022-05-28 14:50:10</td>\n",
       "      <td>2022-05-28 14:55:10</td>\n",
       "      <td>3854</td>\n",
       "      <td>305.1</td>\n",
       "      <td>305.0</td>\n",
       "      <td>-0.1</td>\n",
       "      <td>11.3409</td>\n",
       "      <td>5.7797</td>\n",
       "      <td>5.6807</td>\n",
       "      <td>0</td>\n",
       "      <td>STRONG BUY</td>\n",
       "      <td>STRONG BUY</td>\n",
       "      <td>NEUTRAL</td>\n",
       "      <td>1.962195</td>\n",
       "      <td>1.996391</td>\n",
       "    </tr>\n",
       "    <tr>\n",
       "      <th>483</th>\n",
       "      <td>2022-05-28 14:50:16</td>\n",
       "      <td>2022-05-28 14:55:16</td>\n",
       "      <td>2022-05-28 15:00:16</td>\n",
       "      <td>3855</td>\n",
       "      <td>305.0</td>\n",
       "      <td>305.2</td>\n",
       "      <td>0.2</td>\n",
       "      <td>11.4175</td>\n",
       "      <td>5.6739</td>\n",
       "      <td>5.8639</td>\n",
       "      <td>1</td>\n",
       "      <td>NEUTRAL</td>\n",
       "      <td>NEUTRAL</td>\n",
       "      <td>SELL</td>\n",
       "      <td>2.012284</td>\n",
       "      <td>1.947083</td>\n",
       "    </tr>\n",
       "    <tr>\n",
       "      <th>484</th>\n",
       "      <td>2022-05-28 14:55:22</td>\n",
       "      <td>2022-05-28 15:00:22</td>\n",
       "      <td>2022-05-28 15:05:22</td>\n",
       "      <td>3856</td>\n",
       "      <td>305.2</td>\n",
       "      <td>305.7</td>\n",
       "      <td>0.5</td>\n",
       "      <td>11.4491</td>\n",
       "      <td>5.7963</td>\n",
       "      <td>5.7733</td>\n",
       "      <td>1</td>\n",
       "      <td>BUY</td>\n",
       "      <td>BUY</td>\n",
       "      <td>NEUTRAL</td>\n",
       "      <td>1.975243</td>\n",
       "      <td>1.983112</td>\n",
       "    </tr>\n",
       "  </tbody>\n",
       "</table>\n",
       "<p>485 rows × 16 columns</p>\n",
       "</div>"
      ],
      "text/plain": [
       "             start time           lock time          close time  epoch  \\\n",
       "0   2022-05-26 21:46:10 2022-05-26 21:51:10 2022-05-26 21:56:10   3372   \n",
       "1   2022-05-26 21:51:16 2022-05-26 21:56:16 2022-05-26 22:01:16   3373   \n",
       "2   2022-05-26 21:56:22 2022-05-26 22:01:22 2022-05-26 22:06:22   3374   \n",
       "3   2022-05-26 22:01:28 2022-05-26 22:06:28 2022-05-26 22:11:28   3375   \n",
       "4   2022-05-26 22:06:34 2022-05-26 22:11:34 2022-05-26 22:16:34   3376   \n",
       "..                  ...                 ...                 ...    ...   \n",
       "480 2022-05-28 14:34:58 2022-05-28 14:39:58 2022-05-28 14:44:58   3852   \n",
       "481 2022-05-28 14:40:04 2022-05-28 14:45:04 2022-05-28 14:50:04   3853   \n",
       "482 2022-05-28 14:45:10 2022-05-28 14:50:10 2022-05-28 14:55:10   3854   \n",
       "483 2022-05-28 14:50:16 2022-05-28 14:55:16 2022-05-28 15:00:16   3855   \n",
       "484 2022-05-28 14:55:22 2022-05-28 15:00:22 2022-05-28 15:05:22   3856   \n",
       "\n",
       "     Locked price  Close price  Change  Total BNB  Up BNB  Down BNB Win/Lose  \\\n",
       "0           310.9        311.2     0.3    15.7211  7.8211    8.0654        1   \n",
       "1           311.2        311.1    -0.1    15.2673  7.6794    7.7486        0   \n",
       "2           311.1        313.1     2.0    15.0658  7.6866    7.5378        1   \n",
       "3           313.1        313.3     0.2    15.4450  7.8458    7.7618        1   \n",
       "4           313.3        313.1    -0.2    15.3839  7.8221    7.7238        0   \n",
       "..            ...          ...     ...        ...     ...       ...      ...   \n",
       "480         305.4        305.6     0.2    11.1917  5.6547    5.6547        1   \n",
       "481         305.6        305.1    -0.5    11.5807  5.8513    5.8513        0   \n",
       "482         305.1        305.0    -0.1    11.3409  5.7797    5.6807        0   \n",
       "483         305.0        305.2     0.2    11.4175  5.6739    5.8639        1   \n",
       "484         305.2        305.7     0.5    11.4491  5.7963    5.7733        1   \n",
       "\n",
       "        Summary Moving Average Oscillator  Up multi  Down multi  \n",
       "0           NaN            NaN        NaN  2.010088    1.949203  \n",
       "1          SELL    STRONG SELL    NEUTRAL  1.988085    1.970330  \n",
       "2          SELL           SELL    NEUTRAL  1.960008    1.998700  \n",
       "3          SELL           SELL    NEUTRAL  1.968569    1.989873  \n",
       "4           BUY     STRONG BUY    NEUTRAL  1.966722    1.991753  \n",
       "..          ...            ...        ...       ...         ...  \n",
       "480  STRONG BUY     STRONG BUY    NEUTRAL  1.979185    1.979185  \n",
       "481         BUY     STRONG BUY       SELL  1.979167    1.979167  \n",
       "482  STRONG BUY     STRONG BUY    NEUTRAL  1.962195    1.996391  \n",
       "483     NEUTRAL        NEUTRAL       SELL  2.012284    1.947083  \n",
       "484         BUY            BUY    NEUTRAL  1.975243    1.983112  \n",
       "\n",
       "[485 rows x 16 columns]"
      ]
     },
     "execution_count": 7,
     "metadata": {},
     "output_type": "execute_result"
    }
   ],
   "source": [
    "Data"
   ]
  },
  {
   "cell_type": "code",
   "execution_count": 8,
   "id": "c8b0a359",
   "metadata": {},
   "outputs": [
    {
     "data": {
      "text/plain": [
       "start time        False\n",
       "lock time         False\n",
       "close time        False\n",
       "epoch             False\n",
       "Locked price      False\n",
       "Close price       False\n",
       "Change            False\n",
       "Total BNB         False\n",
       "Up BNB            False\n",
       "Down BNB          False\n",
       "Win/Lose           True\n",
       "Summary            True\n",
       "Moving Average     True\n",
       "Oscillator         True\n",
       "Up multi          False\n",
       "Down multi        False\n",
       "dtype: bool"
      ]
     },
     "execution_count": 8,
     "metadata": {},
     "output_type": "execute_result"
    }
   ],
   "source": [
    "Data.isna().any()"
   ]
  },
  {
   "cell_type": "code",
   "execution_count": 9,
   "id": "77f1f53e",
   "metadata": {},
   "outputs": [],
   "source": [
    "Data.replace([np.inf, -np.inf], np.nan, inplace=True)\n",
    "Data.dropna(subset = ['Up multi', 'Down multi', 'Win/Lose'], inplace = True)"
   ]
  },
  {
   "cell_type": "code",
   "execution_count": 10,
   "id": "41ca57be",
   "metadata": {},
   "outputs": [
    {
     "data": {
      "text/plain": [
       "Index(['start time', 'lock time', 'close time', 'epoch', 'Locked price',\n",
       "       'Close price', 'Change', 'Total BNB', 'Up BNB', 'Down BNB', 'Win/Lose',\n",
       "       'Summary', 'Moving Average', 'Oscillator', 'Up multi', 'Down multi'],\n",
       "      dtype='object')"
      ]
     },
     "execution_count": 10,
     "metadata": {},
     "output_type": "execute_result"
    }
   ],
   "source": [
    "Data.keys()"
   ]
  },
  {
   "cell_type": "code",
   "execution_count": 11,
   "id": "bf6ef110",
   "metadata": {},
   "outputs": [],
   "source": [
    "Data = Data[['Locked price', 'Close price', 'Change', 'Total BNB', 'Up BNB', 'Down BNB', \n",
    "             'Up multi', 'Down multi', 'Win/Lose', 'Summary', 'Moving Average', 'Oscillator', ]]"
   ]
  },
  {
   "cell_type": "code",
   "execution_count": 12,
   "id": "628524f8",
   "metadata": {},
   "outputs": [
    {
     "data": {
      "text/plain": [
       "Locked price      False\n",
       "Close price       False\n",
       "Change            False\n",
       "Total BNB         False\n",
       "Up BNB            False\n",
       "Down BNB          False\n",
       "Up multi          False\n",
       "Down multi        False\n",
       "Win/Lose          False\n",
       "Summary            True\n",
       "Moving Average     True\n",
       "Oscillator         True\n",
       "dtype: bool"
      ]
     },
     "execution_count": 12,
     "metadata": {},
     "output_type": "execute_result"
    }
   ],
   "source": [
    "Data.isna().any()"
   ]
  },
  {
   "cell_type": "code",
   "execution_count": 13,
   "id": "029269dc",
   "metadata": {},
   "outputs": [],
   "source": [
    "# Data.replace(['SELL', 'STRONG SELL'], 1, inplace=True)\n",
    "# Data.replace(['BUY', 'STRONG BUY'], 0, inplace=True)"
   ]
  },
  {
   "cell_type": "code",
   "execution_count": 14,
   "id": "049c0667",
   "metadata": {},
   "outputs": [],
   "source": [
    "# Data.replace(['SELL'], 1, inplace=True)\n",
    "# Data.replace(['BUY'], 0, inplace=True)"
   ]
  },
  {
   "cell_type": "code",
   "execution_count": 15,
   "id": "6c920964",
   "metadata": {},
   "outputs": [
    {
     "name": "stderr",
     "output_type": "stream",
     "text": [
      "C:\\Users\\esugom\\AppData\\Local\\Temp\\ipykernel_3952\\2789854893.py:1: SettingWithCopyWarning: \n",
      "A value is trying to be set on a copy of a slice from a DataFrame\n",
      "\n",
      "See the caveats in the documentation: https://pandas.pydata.org/pandas-docs/stable/user_guide/indexing.html#returning-a-view-versus-a-copy\n",
      "  Data.replace(['STRONG SELL'], 1, inplace=True)\n",
      "C:\\Users\\esugom\\AppData\\Local\\Temp\\ipykernel_3952\\2789854893.py:2: SettingWithCopyWarning: \n",
      "A value is trying to be set on a copy of a slice from a DataFrame\n",
      "\n",
      "See the caveats in the documentation: https://pandas.pydata.org/pandas-docs/stable/user_guide/indexing.html#returning-a-view-versus-a-copy\n",
      "  Data.replace(['STRONG BUY'], 0, inplace=True)\n"
     ]
    }
   ],
   "source": [
    "Data.replace(['STRONG SELL'], 1, inplace=True)\n",
    "Data.replace(['STRONG BUY'], 0, inplace=True)"
   ]
  },
  {
   "cell_type": "markdown",
   "id": "05002bfc",
   "metadata": {},
   "source": [
    "### Data Quality"
   ]
  },
  {
   "cell_type": "code",
   "execution_count": 16,
   "id": "72c8a894",
   "metadata": {},
   "outputs": [
    {
     "data": {
      "text/html": [
       "<div>\n",
       "<style scoped>\n",
       "    .dataframe tbody tr th:only-of-type {\n",
       "        vertical-align: middle;\n",
       "    }\n",
       "\n",
       "    .dataframe tbody tr th {\n",
       "        vertical-align: top;\n",
       "    }\n",
       "\n",
       "    .dataframe thead th {\n",
       "        text-align: right;\n",
       "    }\n",
       "</style>\n",
       "<table border=\"1\" class=\"dataframe\">\n",
       "  <thead>\n",
       "    <tr style=\"text-align: right;\">\n",
       "      <th></th>\n",
       "      <th>Locked price</th>\n",
       "      <th>Close price</th>\n",
       "      <th>Change</th>\n",
       "      <th>Total BNB</th>\n",
       "      <th>Up BNB</th>\n",
       "      <th>Down BNB</th>\n",
       "      <th>Up multi</th>\n",
       "      <th>Down multi</th>\n",
       "      <th>Win/Lose</th>\n",
       "    </tr>\n",
       "  </thead>\n",
       "  <tbody>\n",
       "    <tr>\n",
       "      <th>count</th>\n",
       "      <td>456.000000</td>\n",
       "      <td>456.000000</td>\n",
       "      <td>456.000000</td>\n",
       "      <td>456.000000</td>\n",
       "      <td>456.000000</td>\n",
       "      <td>456.000000</td>\n",
       "      <td>456.000000</td>\n",
       "      <td>456.000000</td>\n",
       "      <td>456.000000</td>\n",
       "    </tr>\n",
       "    <tr>\n",
       "      <th>mean</th>\n",
       "      <td>301.850439</td>\n",
       "      <td>301.839035</td>\n",
       "      <td>-0.011404</td>\n",
       "      <td>14.556188</td>\n",
       "      <td>7.338617</td>\n",
       "      <td>7.370794</td>\n",
       "      <td>1.986629</td>\n",
       "      <td>1.978268</td>\n",
       "      <td>0.484649</td>\n",
       "    </tr>\n",
       "    <tr>\n",
       "      <th>std</th>\n",
       "      <td>3.465066</td>\n",
       "      <td>3.443709</td>\n",
       "      <td>0.930509</td>\n",
       "      <td>1.700445</td>\n",
       "      <td>0.901455</td>\n",
       "      <td>0.919023</td>\n",
       "      <td>0.083903</td>\n",
       "      <td>0.081008</td>\n",
       "      <td>0.500313</td>\n",
       "    </tr>\n",
       "    <tr>\n",
       "      <th>min</th>\n",
       "      <td>292.100000</td>\n",
       "      <td>292.100000</td>\n",
       "      <td>-4.800000</td>\n",
       "      <td>11.174300</td>\n",
       "      <td>5.646000</td>\n",
       "      <td>5.645500</td>\n",
       "      <td>1.607175</td>\n",
       "      <td>1.568399</td>\n",
       "      <td>0.000000</td>\n",
       "    </tr>\n",
       "    <tr>\n",
       "      <th>25%</th>\n",
       "      <td>299.900000</td>\n",
       "      <td>299.900000</td>\n",
       "      <td>-0.500000</td>\n",
       "      <td>14.018750</td>\n",
       "      <td>7.526000</td>\n",
       "      <td>7.535125</td>\n",
       "      <td>1.971694</td>\n",
       "      <td>1.959446</td>\n",
       "      <td>0.000000</td>\n",
       "    </tr>\n",
       "    <tr>\n",
       "      <th>50%</th>\n",
       "      <td>301.700000</td>\n",
       "      <td>301.700000</td>\n",
       "      <td>-0.100000</td>\n",
       "      <td>15.283950</td>\n",
       "      <td>7.674400</td>\n",
       "      <td>7.698550</td>\n",
       "      <td>1.979170</td>\n",
       "      <td>1.979165</td>\n",
       "      <td>0.000000</td>\n",
       "    </tr>\n",
       "    <tr>\n",
       "      <th>75%</th>\n",
       "      <td>303.200000</td>\n",
       "      <td>303.200000</td>\n",
       "      <td>0.500000</td>\n",
       "      <td>15.550625</td>\n",
       "      <td>7.805550</td>\n",
       "      <td>7.828200</td>\n",
       "      <td>1.999292</td>\n",
       "      <td>1.986686</td>\n",
       "      <td>1.000000</td>\n",
       "    </tr>\n",
       "    <tr>\n",
       "      <th>max</th>\n",
       "      <td>313.300000</td>\n",
       "      <td>313.300000</td>\n",
       "      <td>4.000000</td>\n",
       "      <td>17.779900</td>\n",
       "      <td>9.310100</td>\n",
       "      <td>10.214200</td>\n",
       "      <td>2.681404</td>\n",
       "      <td>2.575204</td>\n",
       "      <td>1.000000</td>\n",
       "    </tr>\n",
       "  </tbody>\n",
       "</table>\n",
       "</div>"
      ],
      "text/plain": [
       "       Locked price  Close price      Change   Total BNB      Up BNB  \\\n",
       "count    456.000000   456.000000  456.000000  456.000000  456.000000   \n",
       "mean     301.850439   301.839035   -0.011404   14.556188    7.338617   \n",
       "std        3.465066     3.443709    0.930509    1.700445    0.901455   \n",
       "min      292.100000   292.100000   -4.800000   11.174300    5.646000   \n",
       "25%      299.900000   299.900000   -0.500000   14.018750    7.526000   \n",
       "50%      301.700000   301.700000   -0.100000   15.283950    7.674400   \n",
       "75%      303.200000   303.200000    0.500000   15.550625    7.805550   \n",
       "max      313.300000   313.300000    4.000000   17.779900    9.310100   \n",
       "\n",
       "         Down BNB    Up multi  Down multi    Win/Lose  \n",
       "count  456.000000  456.000000  456.000000  456.000000  \n",
       "mean     7.370794    1.986629    1.978268    0.484649  \n",
       "std      0.919023    0.083903    0.081008    0.500313  \n",
       "min      5.645500    1.607175    1.568399    0.000000  \n",
       "25%      7.535125    1.971694    1.959446    0.000000  \n",
       "50%      7.698550    1.979170    1.979165    0.000000  \n",
       "75%      7.828200    1.999292    1.986686    1.000000  \n",
       "max     10.214200    2.681404    2.575204    1.000000  "
      ]
     },
     "execution_count": 16,
     "metadata": {},
     "output_type": "execute_result"
    }
   ],
   "source": [
    "Data.describe()"
   ]
  },
  {
   "cell_type": "code",
   "execution_count": 17,
   "id": "d8bbcbcc",
   "metadata": {},
   "outputs": [
    {
     "data": {
      "text/plain": [
       "456"
      ]
     },
     "execution_count": 17,
     "metadata": {},
     "output_type": "execute_result"
    }
   ],
   "source": [
    "len(Data)"
   ]
  },
  {
   "cell_type": "code",
   "execution_count": 18,
   "id": "2aae3069",
   "metadata": {},
   "outputs": [],
   "source": [
    "df = Data[(Data['Summary']==1) | (Data['Summary']==0)]"
   ]
  },
  {
   "cell_type": "code",
   "execution_count": 19,
   "id": "dc821155",
   "metadata": {},
   "outputs": [
    {
     "data": {
      "text/plain": [
       "66"
      ]
     },
     "execution_count": 19,
     "metadata": {},
     "output_type": "execute_result"
    }
   ],
   "source": [
    "len(df)"
   ]
  },
  {
   "cell_type": "code",
   "execution_count": 20,
   "id": "ae59f035",
   "metadata": {},
   "outputs": [
    {
     "name": "stderr",
     "output_type": "stream",
     "text": [
      "C:\\Users\\esugom\\AppData\\Local\\Temp\\ipykernel_3952\\1870624861.py:1: SettingWithCopyWarning: \n",
      "A value is trying to be set on a copy of a slice from a DataFrame.\n",
      "Try using .loc[row_indexer,col_indexer] = value instead\n",
      "\n",
      "See the caveats in the documentation: https://pandas.pydata.org/pandas-docs/stable/user_guide/indexing.html#returning-a-view-versus-a-copy\n",
      "  df['Result'] = (df['Win/Lose'] == df['Summary']).astype(int)\n"
     ]
    }
   ],
   "source": [
    "df['Result'] = (df['Win/Lose'] == df['Summary']).astype(int)"
   ]
  },
  {
   "cell_type": "code",
   "execution_count": 21,
   "id": "a19c9d12",
   "metadata": {},
   "outputs": [
    {
     "data": {
      "text/plain": [
       "Counter({1: 38, 0: 28})"
      ]
     },
     "execution_count": 21,
     "metadata": {},
     "output_type": "execute_result"
    }
   ],
   "source": [
    "Counter(df['Result'])"
   ]
  },
  {
   "cell_type": "code",
   "execution_count": 22,
   "id": "2fcc7416",
   "metadata": {},
   "outputs": [
    {
     "data": {
      "text/plain": [
       "Counter({1: 29, 0: 37})"
      ]
     },
     "execution_count": 22,
     "metadata": {},
     "output_type": "execute_result"
    }
   ],
   "source": [
    "Counter(df['Win/Lose'])"
   ]
  },
  {
   "cell_type": "code",
   "execution_count": 23,
   "id": "2e247e1b",
   "metadata": {},
   "outputs": [
    {
     "data": {
      "text/html": [
       "<div>\n",
       "<style scoped>\n",
       "    .dataframe tbody tr th:only-of-type {\n",
       "        vertical-align: middle;\n",
       "    }\n",
       "\n",
       "    .dataframe tbody tr th {\n",
       "        vertical-align: top;\n",
       "    }\n",
       "\n",
       "    .dataframe thead th {\n",
       "        text-align: right;\n",
       "    }\n",
       "</style>\n",
       "<table border=\"1\" class=\"dataframe\">\n",
       "  <thead>\n",
       "    <tr style=\"text-align: right;\">\n",
       "      <th></th>\n",
       "      <th>Locked price</th>\n",
       "      <th>Close price</th>\n",
       "      <th>Change</th>\n",
       "      <th>Total BNB</th>\n",
       "      <th>Up BNB</th>\n",
       "      <th>Down BNB</th>\n",
       "      <th>Up multi</th>\n",
       "      <th>Down multi</th>\n",
       "      <th>Win/Lose</th>\n",
       "      <th>Result</th>\n",
       "    </tr>\n",
       "  </thead>\n",
       "  <tbody>\n",
       "    <tr>\n",
       "      <th>count</th>\n",
       "      <td>66.000000</td>\n",
       "      <td>66.000000</td>\n",
       "      <td>66.000000</td>\n",
       "      <td>66.000000</td>\n",
       "      <td>66.000000</td>\n",
       "      <td>66.000000</td>\n",
       "      <td>66.000000</td>\n",
       "      <td>66.000000</td>\n",
       "      <td>66.000000</td>\n",
       "      <td>66.000000</td>\n",
       "    </tr>\n",
       "    <tr>\n",
       "      <th>mean</th>\n",
       "      <td>301.724242</td>\n",
       "      <td>301.692424</td>\n",
       "      <td>-0.031818</td>\n",
       "      <td>14.144703</td>\n",
       "      <td>7.160671</td>\n",
       "      <td>7.132932</td>\n",
       "      <td>1.977502</td>\n",
       "      <td>1.985289</td>\n",
       "      <td>0.439394</td>\n",
       "      <td>0.575758</td>\n",
       "    </tr>\n",
       "    <tr>\n",
       "      <th>std</th>\n",
       "      <td>3.241180</td>\n",
       "      <td>3.189951</td>\n",
       "      <td>0.849101</td>\n",
       "      <td>1.884117</td>\n",
       "      <td>0.984916</td>\n",
       "      <td>0.980203</td>\n",
       "      <td>0.061381</td>\n",
       "      <td>0.073804</td>\n",
       "      <td>0.500117</td>\n",
       "      <td>0.498015</td>\n",
       "    </tr>\n",
       "    <tr>\n",
       "      <th>min</th>\n",
       "      <td>292.400000</td>\n",
       "      <td>292.100000</td>\n",
       "      <td>-2.800000</td>\n",
       "      <td>11.177100</td>\n",
       "      <td>5.647400</td>\n",
       "      <td>5.647400</td>\n",
       "      <td>1.701440</td>\n",
       "      <td>1.846040</td>\n",
       "      <td>0.000000</td>\n",
       "      <td>0.000000</td>\n",
       "    </tr>\n",
       "    <tr>\n",
       "      <th>25%</th>\n",
       "      <td>299.825000</td>\n",
       "      <td>300.125000</td>\n",
       "      <td>-0.575000</td>\n",
       "      <td>11.707550</td>\n",
       "      <td>5.828500</td>\n",
       "      <td>5.881350</td>\n",
       "      <td>1.973162</td>\n",
       "      <td>1.966300</td>\n",
       "      <td>0.000000</td>\n",
       "      <td>0.000000</td>\n",
       "    </tr>\n",
       "    <tr>\n",
       "      <th>50%</th>\n",
       "      <td>301.900000</td>\n",
       "      <td>301.800000</td>\n",
       "      <td>-0.100000</td>\n",
       "      <td>15.132800</td>\n",
       "      <td>7.650150</td>\n",
       "      <td>7.664450</td>\n",
       "      <td>1.979174</td>\n",
       "      <td>1.979160</td>\n",
       "      <td>0.000000</td>\n",
       "      <td>1.000000</td>\n",
       "    </tr>\n",
       "    <tr>\n",
       "      <th>75%</th>\n",
       "      <td>303.300000</td>\n",
       "      <td>303.300000</td>\n",
       "      <td>0.675000</td>\n",
       "      <td>15.517150</td>\n",
       "      <td>7.798575</td>\n",
       "      <td>7.806775</td>\n",
       "      <td>1.992189</td>\n",
       "      <td>1.985214</td>\n",
       "      <td>1.000000</td>\n",
       "      <td>1.000000</td>\n",
       "    </tr>\n",
       "    <tr>\n",
       "      <th>max</th>\n",
       "      <td>310.400000</td>\n",
       "      <td>311.100000</td>\n",
       "      <td>1.600000</td>\n",
       "      <td>16.777100</td>\n",
       "      <td>9.130100</td>\n",
       "      <td>8.846600</td>\n",
       "      <td>2.133006</td>\n",
       "      <td>2.365273</td>\n",
       "      <td>1.000000</td>\n",
       "      <td>1.000000</td>\n",
       "    </tr>\n",
       "  </tbody>\n",
       "</table>\n",
       "</div>"
      ],
      "text/plain": [
       "       Locked price  Close price     Change  Total BNB     Up BNB   Down BNB  \\\n",
       "count     66.000000    66.000000  66.000000  66.000000  66.000000  66.000000   \n",
       "mean     301.724242   301.692424  -0.031818  14.144703   7.160671   7.132932   \n",
       "std        3.241180     3.189951   0.849101   1.884117   0.984916   0.980203   \n",
       "min      292.400000   292.100000  -2.800000  11.177100   5.647400   5.647400   \n",
       "25%      299.825000   300.125000  -0.575000  11.707550   5.828500   5.881350   \n",
       "50%      301.900000   301.800000  -0.100000  15.132800   7.650150   7.664450   \n",
       "75%      303.300000   303.300000   0.675000  15.517150   7.798575   7.806775   \n",
       "max      310.400000   311.100000   1.600000  16.777100   9.130100   8.846600   \n",
       "\n",
       "        Up multi  Down multi   Win/Lose     Result  \n",
       "count  66.000000   66.000000  66.000000  66.000000  \n",
       "mean    1.977502    1.985289   0.439394   0.575758  \n",
       "std     0.061381    0.073804   0.500117   0.498015  \n",
       "min     1.701440    1.846040   0.000000   0.000000  \n",
       "25%     1.973162    1.966300   0.000000   0.000000  \n",
       "50%     1.979174    1.979160   0.000000   1.000000  \n",
       "75%     1.992189    1.985214   1.000000   1.000000  \n",
       "max     2.133006    2.365273   1.000000   1.000000  "
      ]
     },
     "execution_count": 23,
     "metadata": {},
     "output_type": "execute_result"
    }
   ],
   "source": [
    "df.describe()"
   ]
  },
  {
   "cell_type": "markdown",
   "id": "636679bc",
   "metadata": {},
   "source": [
    "### Other"
   ]
  },
  {
   "cell_type": "code",
   "execution_count": 24,
   "id": "f99eafda",
   "metadata": {},
   "outputs": [],
   "source": [
    "a = Counter(df['Result'])[1]      # Win\n",
    "b = Counter(df['Result'])[0]      # Lose"
   ]
  },
  {
   "cell_type": "code",
   "execution_count": 25,
   "id": "f81e117b",
   "metadata": {},
   "outputs": [
    {
     "name": "stdout",
     "output_type": "stream",
     "text": [
      "0.5757575757575758\n"
     ]
    }
   ],
   "source": [
    "#### Win rate ####\n",
    "win_rate = a / len(df)\n",
    "print(win_rate)"
   ]
  },
  {
   "cell_type": "code",
   "execution_count": 26,
   "id": "e9e16710",
   "metadata": {},
   "outputs": [
    {
     "name": "stdout",
     "output_type": "stream",
     "text": [
      "0.25575\n"
     ]
    }
   ],
   "source": [
    "# average winings\n",
    "BNB = 0.3\n",
    "\n",
    "profit = (1.95 * BNB * 0.95) - BNB\n",
    "print(profit)"
   ]
  },
  {
   "cell_type": "code",
   "execution_count": 27,
   "id": "9df30a73",
   "metadata": {},
   "outputs": [
    {
     "name": "stdout",
     "output_type": "stream",
     "text": [
      "True profit = 0.019977272727272732 per game\n"
     ]
    }
   ],
   "source": [
    "# Since I win x% of the time, my true profit is\n",
    "true_profit = profit*win_rate - BNB*(1-win_rate)\n",
    "print(f\"True profit = {true_profit} per game\")"
   ]
  },
  {
   "cell_type": "code",
   "execution_count": 28,
   "id": "fc03c552",
   "metadata": {},
   "outputs": [
    {
     "name": "stdout",
     "output_type": "stream",
     "text": [
      "1.5833333333333333\n"
     ]
    }
   ],
   "source": [
    "# Number of games per day\n",
    "no_of_days = len(Data)/288\n",
    "print(no_of_days)"
   ]
  },
  {
   "cell_type": "code",
   "execution_count": 29,
   "id": "d1071ad3",
   "metadata": {},
   "outputs": [
    {
     "name": "stdout",
     "output_type": "stream",
     "text": [
      "66\n"
     ]
    }
   ],
   "source": [
    "games = len(df)\n",
    "print(games)"
   ]
  },
  {
   "cell_type": "code",
   "execution_count": 30,
   "id": "d9b42f56",
   "metadata": {},
   "outputs": [
    {
     "name": "stdout",
     "output_type": "stream",
     "text": [
      "0.7591363636363638\n"
     ]
    }
   ],
   "source": [
    "# with win rate\n",
    "winnings_per_day = int(games*win_rate) * true_profit\n",
    "print(winnings_per_day)"
   ]
  },
  {
   "cell_type": "code",
   "execution_count": 31,
   "id": "c5b9c489",
   "metadata": {},
   "outputs": [
    {
     "name": "stdout",
     "output_type": "stream",
     "text": [
      "0.0832\n"
     ]
    }
   ],
   "source": [
    "# fees\n",
    "fees = (0.0008 * games) + (0.0008* games *win_rate)\n",
    "print(fees)"
   ]
  },
  {
   "cell_type": "code",
   "execution_count": 32,
   "id": "9ccd86bd",
   "metadata": {},
   "outputs": [
    {
     "name": "stdout",
     "output_type": "stream",
     "text": [
      "0.6759363636363638\n"
     ]
    }
   ],
   "source": [
    "# win\n",
    "net_win = winnings_per_day - fees\n",
    "print(net_win)"
   ]
  }
 ],
 "metadata": {
  "kernelspec": {
   "display_name": "Python 3 (ipykernel)",
   "language": "python",
   "name": "python3"
  },
  "language_info": {
   "codemirror_mode": {
    "name": "ipython",
    "version": 3
   },
   "file_extension": ".py",
   "mimetype": "text/x-python",
   "name": "python",
   "nbconvert_exporter": "python",
   "pygments_lexer": "ipython3",
   "version": "3.9.12"
  }
 },
 "nbformat": 4,
 "nbformat_minor": 5
}
